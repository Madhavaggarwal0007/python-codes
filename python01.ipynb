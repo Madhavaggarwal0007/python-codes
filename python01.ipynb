{
  "nbformat": 4,
  "nbformat_minor": 0,
  "metadata": {
    "colab": {
      "provenance": [],
      "include_colab_link": true
    },
    "kernelspec": {
      "name": "python3",
      "display_name": "Python 3"
    },
    "language_info": {
      "name": "python"
    }
  },
  "cells": [
    {
      "cell_type": "markdown",
      "metadata": {
        "id": "view-in-github",
        "colab_type": "text"
      },
      "source": [
        "<a href=\"https://colab.research.google.com/github/Madhavaggarwal0007/python-codes/blob/main/python01.ipynb\" target=\"_parent\"><img src=\"https://colab.research.google.com/assets/colab-badge.svg\" alt=\"Open In Colab\"/></a>"
      ]
    },
    {
      "cell_type": "code",
      "execution_count": 3,
      "metadata": {
        "colab": {
          "base_uri": "https://localhost:8080/"
        },
        "id": "7daOtFoQGdxw",
        "outputId": "636fa8f5-b436-49f5-bb96-5cb95334a3b1"
      },
      "outputs": [
        {
          "output_type": "stream",
          "name": "stdout",
          "text": [
            "Madhav Aggarwal\n",
            "o----\n",
            " ||||\n",
            "***************\n",
            "*************\n",
            "**********\n",
            "********\n",
            "*******\n",
            "******\n",
            "*****\n",
            "****\n",
            "***\n",
            "**\n",
            "*\n",
            "\n",
            "***\n"
          ]
        }
      ],
      "source": [
        "print(\"Madhav Aggarwal\")\n",
        "print('o----')\n",
        "print(' ||||')\n",
        "print('*' * 15)\n",
        "print('*' * 13)\n",
        "print('*' * 10)\n",
        "print('*' * 8)\n",
        "print('*' * 7)\n",
        "print('*' * 6)\n",
        "print('*' * 5)\n",
        "print('*' * 4)\n",
        "print('*' * 3)\n",
        "print('*' * 2)\n",
        "print('*' * 1)\n",
        "print('*' * 0)\n",
        "print('*' * 3)"
      ]
    },
    {
      "cell_type": "code",
      "source": [],
      "metadata": {
        "id": "Z1er_GkMH2Bn"
      },
      "execution_count": null,
      "outputs": []
    }
  ]
}