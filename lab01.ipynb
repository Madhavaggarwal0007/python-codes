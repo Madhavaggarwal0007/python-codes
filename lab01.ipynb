{
  "nbformat": 4,
  "nbformat_minor": 0,
  "metadata": {
    "colab": {
      "provenance": [],
      "authorship_tag": "ABX9TyOB5lx6r2PI0HIfmF8O1qDi",
      "include_colab_link": true
    },
    "kernelspec": {
      "name": "python3",
      "display_name": "Python 3"
    },
    "language_info": {
      "name": "python"
    }
  },
  "cells": [
    {
      "cell_type": "markdown",
      "metadata": {
        "id": "view-in-github",
        "colab_type": "text"
      },
      "source": [
        "<a href=\"https://colab.research.google.com/github/Madhavaggarwal0007/python-minor-project/blob/main/lab01.ipynb\" target=\"_parent\"><img src=\"https://colab.research.google.com/assets/colab-badge.svg\" alt=\"Open In Colab\"/></a>"
      ]
    },
    {
      "cell_type": "code",
      "execution_count": null,
      "metadata": {
        "colab": {
          "base_uri": "https://localhost:8080/"
        },
        "id": "8b_CfX9g3qHd",
        "outputId": "3564e05c-7f83-4db8-e2fd-ebd2f5e38569"
      },
      "outputs": [
        {
          "output_type": "stream",
          "name": "stdout",
          "text": [
            "what is my age? 19\n",
            "2005\n"
          ]
        }
      ],
      "source": [
        "birth_year = int(input(\"what is my age? \"))\n",
        "age= 2024 - birth_year\n",
        "print(age)\n"
      ]
    },
    {
      "cell_type": "code",
      "source": [
        "a=12\n",
        "b=20.3\n",
        "c=a+b\n",
        "print(c)\n",
        "print(type(c))"
      ],
      "metadata": {
        "colab": {
          "base_uri": "https://localhost:8080/"
        },
        "id": "fZqN2QP64EAW",
        "outputId": "283fb376-b3e2-4152-dd57-86c6d021e1c1"
      },
      "execution_count": null,
      "outputs": [
        {
          "output_type": "stream",
          "name": "stdout",
          "text": [
            "32.3\n",
            "<class 'float'>\n"
          ]
        }
      ]
    },
    {
      "cell_type": "code",
      "source": [
        "name=input('what is your name?')\n",
        "SAP_ID=int(input('enter your SAP'))\n",
        "course=input('what is your course?')\n",
        "year= int(input('write your current year'))\n",
        "city= input('name the city u live')\n",
        "print(name)\n",
        "print(SAP_ID)\n",
        "print(course)\n",
        "print(year)\n",
        "print(city)\n"
      ],
      "metadata": {
        "colab": {
          "base_uri": "https://localhost:8080/"
        },
        "id": "-Nv6zJbL4Lnj",
        "outputId": "a5f304fe-2660-4107-8e21-e434cbb04b25"
      },
      "execution_count": null,
      "outputs": [
        {
          "output_type": "stream",
          "name": "stdout",
          "text": [
            "what is your name?Madhav Aggarwal\n",
            "enter your SAP500123223\n",
            "what is your course?Btech cse\n",
            "write your current year2023\n",
            "name the city u liveAmbala cantt\n",
            "Madhav Aggarwal\n",
            "500123223\n",
            "Btech cse\n",
            "2023\n",
            "Ambala cantt\n"
          ]
        }
      ]
    }
  ]
}